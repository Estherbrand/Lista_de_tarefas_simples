{
  "nbformat": 4,
  "nbformat_minor": 0,
  "metadata": {
    "colab": {
      "provenance": [],
      "authorship_tag": "ABX9TyPQqEoka0hVWtT1qS6+qmmA",
      "include_colab_link": true
    },
    "kernelspec": {
      "name": "python3",
      "display_name": "Python 3"
    },
    "language_info": {
      "name": "python"
    }
  },
  "cells": [
    {
      "cell_type": "markdown",
      "metadata": {
        "id": "view-in-github",
        "colab_type": "text"
      },
      "source": [
        "<a href=\"https://colab.research.google.com/github/Estherbrand/Lista_de_tarefas_simples/blob/main/Lista_de_tarefas_simples.ipynb\" target=\"_parent\"><img src=\"https://colab.research.google.com/assets/colab-badge.svg\" alt=\"Open In Colab\"/></a>"
      ]
    },
    {
      "cell_type": "code",
      "source": [
        "lista_de_tarefas = []\n",
        "status_tarefas = []\n",
        "\n",
        "# Função para adicionar a tarefa\n",
        "def adicionar_tarefa(tarefa):\n",
        "    lista_de_tarefas.append(tarefa)\n",
        "    status_tarefas.append(False)  # Adiciona o status \"não concluída\"\n",
        "    print(f\"Tarefa '{tarefa}' adicionada.\")\n",
        "\n",
        "# Função para visualizar as tarefas\n",
        "def visualizar_tarefas():\n",
        "    if not lista_de_tarefas:\n",
        "        print(\"Nenhuma tarefa encontrada.\")\n",
        "    else:\n",
        "        print(\"Essas são suas tarefas:\")\n",
        "        for indice, tarefa in enumerate(lista_de_tarefas, start=1):\n",
        "            status = \"Concluída\" if status_tarefas[indice - 1] else \"Não concluída\"\n",
        "            print(f\"{indice}. {tarefa} - {status}\")\n",
        "\n",
        "# Função para remover uma tarefa\n",
        "def remover_tarefa(indice):\n",
        "    if 1 <= indice <= len(lista_de_tarefas):\n",
        "        tarefa_removida = lista_de_tarefas.pop(indice - 1)\n",
        "        status_tarefas.pop(indice - 1)\n",
        "        print(f\"Tarefa '{tarefa_removida}' removida.\")\n",
        "    else:\n",
        "        print(\"Número de tarefa inválido.\")\n",
        "\n",
        "# Função para marcar uma tarefa como concluída\n",
        "def concluir_tarefa(indice):\n",
        "    if 1 <= indice <= len(lista_de_tarefas):\n",
        "        status_tarefas[indice - 1] = True\n",
        "        print(f\"Tarefa '{lista_de_tarefas[indice - 1]}' marcada como concluída.\")\n",
        "    else:\n",
        "        print(\"Número de tarefa inválido.\")\n",
        "\n",
        "# Função para mostrar o menu e executar as ações\n",
        "def menu():\n",
        "    while True:\n",
        "        print(\"\\nMenu:\")\n",
        "        print(\"1. Adicionar tarefa\")\n",
        "        print(\"2. Visualizar tarefas\")\n",
        "        print(\"3. Remover tarefa\")\n",
        "        print(\"4. Concluir tarefa\")\n",
        "        print(\"5. Sair\")\n",
        "        opcao = input(\"Escolha uma opção (1/2/3/4/5): \")\n",
        "\n",
        "        if opcao == \"1\":\n",
        "            tarefa = input(\"Digite a tarefa que deseja adicionar: \")\n",
        "            adicionar_tarefa(tarefa)\n",
        "        elif opcao == \"2\":\n",
        "            visualizar_tarefas()\n",
        "        elif opcao == \"3\":\n",
        "            indice = int(input(\"Digite o número da tarefa que deseja remover: \"))\n",
        "            remover_tarefa(indice)\n",
        "        elif opcao == \"4\":\n",
        "            indice = int(input(\"Digite o número da tarefa que deseja concluir: \"))\n",
        "            concluir_tarefa(indice)\n",
        "        elif opcao == \"5\":\n",
        "            print(\"Saindo do programa. Até logo!\")\n",
        "            break\n",
        "        else:\n",
        "            print(\"Opção inválida. Por favor, escolha uma opção válida.\")\n",
        "\n",
        "menu()\n",
        "\n",
        "\n"
      ],
      "metadata": {
        "id": "FOtsBTYecOUJ"
      },
      "execution_count": null,
      "outputs": []
    }
  ]
}